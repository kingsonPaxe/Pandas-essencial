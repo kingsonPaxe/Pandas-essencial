{
 "cells": [
  {
   "cell_type": "markdown",
   "id": "3de8e01a-c4d1-4a6c-9066-9c4a00924f55",
   "metadata": {},
   "source": [
    "# Pandas🐼 "
   ]
  },
  {
   "cell_type": "code",
   "execution_count": 1,
   "id": "7d049528-a776-4333-8cdc-c558b257dc82",
   "metadata": {},
   "outputs": [],
   "source": [
    "import pandas as pd # pd estamos apelidando "
   ]
  },
  {
   "cell_type": "markdown",
   "id": "5745edeb-a17e-468d-b03b-46bf73881048",
   "metadata": {},
   "source": [
    "# DataFrame"
   ]
  },
  {
   "cell_type": "code",
   "execution_count": null,
   "id": "6c2084e1-614a-4975-bb32-30fe4c4352c7",
   "metadata": {},
   "outputs": [
    {
     "data": {
      "text/html": [
       "<div>\n",
       "<style scoped>\n",
       "    .dataframe tbody tr th:only-of-type {\n",
       "        vertical-align: middle;\n",
       "    }\n",
       "\n",
       "    .dataframe tbody tr th {\n",
       "        vertical-align: top;\n",
       "    }\n",
       "\n",
       "    .dataframe thead th {\n",
       "        text-align: right;\n",
       "    }\n",
       "</style>\n",
       "<table border=\"1\" class=\"dataframe\">\n",
       "  <thead>\n",
       "    <tr style=\"text-align: right;\">\n",
       "      <th></th>\n",
       "      <th>Nome</th>\n",
       "      <th>Idade</th>\n",
       "      <th>Cidade</th>\n",
       "    </tr>\n",
       "  </thead>\n",
       "  <tbody>\n",
       "    <tr>\n",
       "      <th>0</th>\n",
       "      <td>Alice</td>\n",
       "      <td>25</td>\n",
       "      <td>São Paulo</td>\n",
       "    </tr>\n",
       "    <tr>\n",
       "      <th>1</th>\n",
       "      <td>Bob</td>\n",
       "      <td>30</td>\n",
       "      <td>Rio de Janeiro</td>\n",
       "    </tr>\n",
       "    <tr>\n",
       "      <th>2</th>\n",
       "      <td>Carlos</td>\n",
       "      <td>22</td>\n",
       "      <td>Belo Horizonte</td>\n",
       "    </tr>\n",
       "  </tbody>\n",
       "</table>\n",
       "</div>"
      ],
      "text/plain": [
       "     Nome  Idade          Cidade\n",
       "0   Alice     25       São Paulo\n",
       "1     Bob     30  Rio de Janeiro\n",
       "2  Carlos     22  Belo Horizonte"
      ]
     },
     "metadata": {},
     "output_type": "display_data"
    },
    {
     "name": "stdout",
     "output_type": "stream",
     "text": [
      "Essa tabela tem 2 dimensões\n"
     ]
    }
   ],
   "source": [
    "dados = {\n",
    "    \"Nome\": [\"Alice\", \"Bob\", \"Carlos\"],\n",
    "    \"Idade\": [25, 30, 22],\n",
    "    \"Cidade\": [\"São Paulo\", \"Rio de Janeiro\", \"Belo Horizonte\"]\n",
    "}\n",
    "\n",
    "\n",
    "\n",
    "dtf = pd.DataFrame(dados)\n",
    "display(dtf)\n",
    "# vendo a dimensão\n",
    "print(f\"Essa tabela tem {dtf.ndim} dimensões\")"
   ]
  },
  {
   "cell_type": "markdown",
   "id": "759844a2-3277-49f6-85c5-27eaa5d28a42",
   "metadata": {},
   "source": [
    "## Parâmetros  do DataFrame(data, index, columns, dtype)"
   ]
  },
  {
   "cell_type": "markdown",
   "id": "6573d3be-9fc8-445a-8a39-a133ac101af8",
   "metadata": {},
   "source": [
    "## Explorando o parâmetro data\n",
    "*    Para o dataframe o parametro **data** pode receber varios tipos como por exemplo:\n",
    "        * Lista\n",
    "        * dicionario\n",
    "        * DataFrame existente também\n",
    "     "
   ]
  },
  {
   "cell_type": "markdown",
   "id": "638de785-c62b-4dc2-a5dd-cc90d9a1bf46",
   "metadata": {},
   "source": [
    "## Exemplo com lista"
   ]
  },
  {
   "cell_type": "code",
   "execution_count": 3,
   "id": "15a4c59e-6d53-4806-834c-aa5fcccc15f8",
   "metadata": {},
   "outputs": [
    {
     "data": {
      "text/html": [
       "<div>\n",
       "<style scoped>\n",
       "    .dataframe tbody tr th:only-of-type {\n",
       "        vertical-align: middle;\n",
       "    }\n",
       "\n",
       "    .dataframe tbody tr th {\n",
       "        vertical-align: top;\n",
       "    }\n",
       "\n",
       "    .dataframe thead th {\n",
       "        text-align: right;\n",
       "    }\n",
       "</style>\n",
       "<table border=\"1\" class=\"dataframe\">\n",
       "  <thead>\n",
       "    <tr style=\"text-align: right;\">\n",
       "      <th></th>\n",
       "      <th>Nomes</th>\n",
       "    </tr>\n",
       "  </thead>\n",
       "  <tbody>\n",
       "    <tr>\n",
       "      <th>0</th>\n",
       "      <td>Paulo</td>\n",
       "    </tr>\n",
       "    <tr>\n",
       "      <th>1</th>\n",
       "      <td>Sandro</td>\n",
       "    </tr>\n",
       "    <tr>\n",
       "      <th>2</th>\n",
       "      <td>Frederico</td>\n",
       "    </tr>\n",
       "  </tbody>\n",
       "</table>\n",
       "</div>"
      ],
      "text/plain": [
       "       Nomes\n",
       "0      Paulo\n",
       "1     Sandro\n",
       "2  Frederico"
      ]
     },
     "execution_count": 3,
     "metadata": {},
     "output_type": "execute_result"
    }
   ],
   "source": [
    "list = [\"Paulo\", \"Sandro\", \"Frederico\"]\n",
    "dtf2 = pd.DataFrame(list, columns = [\"Nomes\"])\n",
    "dtf2"
   ]
  },
  {
   "cell_type": "markdown",
   "id": "d2fb3e2c-8bed-4cd1-878c-c2121a9909ec",
   "metadata": {},
   "source": [
    "## Exemplo com Dicionário"
   ]
  },
  {
   "cell_type": "code",
   "execution_count": 4,
   "id": "0bc78413-37b3-4943-8e52-c6293e3384be",
   "metadata": {},
   "outputs": [
    {
     "data": {
      "text/html": [
       "<div>\n",
       "<style scoped>\n",
       "    .dataframe tbody tr th:only-of-type {\n",
       "        vertical-align: middle;\n",
       "    }\n",
       "\n",
       "    .dataframe tbody tr th {\n",
       "        vertical-align: top;\n",
       "    }\n",
       "\n",
       "    .dataframe thead th {\n",
       "        text-align: right;\n",
       "    }\n",
       "</style>\n",
       "<table border=\"1\" class=\"dataframe\">\n",
       "  <thead>\n",
       "    <tr style=\"text-align: right;\">\n",
       "      <th></th>\n",
       "      <th>Nomes</th>\n",
       "      <th>Idades</th>\n",
       "    </tr>\n",
       "  </thead>\n",
       "  <tbody>\n",
       "    <tr>\n",
       "      <th>0</th>\n",
       "      <td>Paulo</td>\n",
       "      <td>12</td>\n",
       "    </tr>\n",
       "    <tr>\n",
       "      <th>1</th>\n",
       "      <td>Sandro</td>\n",
       "      <td>20</td>\n",
       "    </tr>\n",
       "    <tr>\n",
       "      <th>2</th>\n",
       "      <td>Frederico</td>\n",
       "      <td>20</td>\n",
       "    </tr>\n",
       "  </tbody>\n",
       "</table>\n",
       "</div>"
      ],
      "text/plain": [
       "       Nomes  Idades\n",
       "0      Paulo      12\n",
       "1     Sandro      20\n",
       "2  Frederico      20"
      ]
     },
     "execution_count": 4,
     "metadata": {},
     "output_type": "execute_result"
    }
   ],
   "source": [
    "dict = {\n",
    "    \"Nomes\":list, # Praticamente so peguei os valores que estão na variavel lista\n",
    "    \"Idades\":[12,20,20]\n",
    "}\n",
    "\n",
    "dft3 = pd.DataFrame(dict)\n",
    "dft3"
   ]
  },
  {
   "cell_type": "markdown",
   "id": "86083507-c880-42a4-a03f-7d9d4c59f678",
   "metadata": {},
   "source": [
    "## Exemplo com um DataFrame existente"
   ]
  },
  {
   "cell_type": "code",
   "execution_count": 5,
   "id": "6cb1e6a6-6b54-48e1-bfd2-6b807d075b6e",
   "metadata": {},
   "outputs": [
    {
     "data": {
      "text/html": [
       "<div>\n",
       "<style scoped>\n",
       "    .dataframe tbody tr th:only-of-type {\n",
       "        vertical-align: middle;\n",
       "    }\n",
       "\n",
       "    .dataframe tbody tr th {\n",
       "        vertical-align: top;\n",
       "    }\n",
       "\n",
       "    .dataframe thead th {\n",
       "        text-align: right;\n",
       "    }\n",
       "</style>\n",
       "<table border=\"1\" class=\"dataframe\">\n",
       "  <thead>\n",
       "    <tr style=\"text-align: right;\">\n",
       "      <th></th>\n",
       "      <th>Nomes</th>\n",
       "      <th>Idades</th>\n",
       "    </tr>\n",
       "  </thead>\n",
       "  <tbody>\n",
       "    <tr>\n",
       "      <th>0</th>\n",
       "      <td>Paulo</td>\n",
       "      <td>12</td>\n",
       "    </tr>\n",
       "    <tr>\n",
       "      <th>1</th>\n",
       "      <td>Sandro</td>\n",
       "      <td>20</td>\n",
       "    </tr>\n",
       "    <tr>\n",
       "      <th>2</th>\n",
       "      <td>Frederico</td>\n",
       "      <td>20</td>\n",
       "    </tr>\n",
       "  </tbody>\n",
       "</table>\n",
       "</div>"
      ],
      "text/plain": [
       "       Nomes  Idades\n",
       "0      Paulo      12\n",
       "1     Sandro      20\n",
       "2  Frederico      20"
      ]
     },
     "execution_count": 5,
     "metadata": {},
     "output_type": "execute_result"
    }
   ],
   "source": [
    "dft4 = pd.DataFrame(dft3)\n",
    "dft4 # resultado"
   ]
  },
  {
   "cell_type": "markdown",
   "id": "0c52ce4a",
   "metadata": {},
   "source": [
    "# Atributo index\n",
    "*   Ela serve para acender ou mudar os \"ids\" de uma linha inteira onde ela pode receber lista ou numeros\n",
    "\n",
    "### Sintaxe: index = [srings] or index = [numbers]"
   ]
  },
  {
   "cell_type": "code",
   "execution_count": null,
   "id": "c283d074",
   "metadata": {},
   "outputs": [
    {
     "name": "stdout",
     "output_type": "stream",
     "text": [
      "     Nome  Idade          Cidade\n",
      "a   Alice     25       São Paulo\n",
      "b     Bob     30  Rio de Janeiro\n",
      "c  Carlos     22  Belo Horizonte\n"
     ]
    }
   ],
   "source": [
    "# exemplo com string:\n",
    "\n",
    "dados_index = pd.DataFrame(dados, index = [\"a\", \"b\", \"c\"])\n",
    "print(dados_index)"
   ]
  },
  {
   "cell_type": "code",
   "execution_count": 14,
   "id": "4c9f4ab1",
   "metadata": {},
   "outputs": [
    {
     "name": "stdout",
     "output_type": "stream",
     "text": [
      "      Nome  Idade          Cidade\n",
      "10   Alice     25       São Paulo\n",
      "20     Bob     30  Rio de Janeiro\n",
      "30  Carlos     22  Belo Horizonte\n"
     ]
    }
   ],
   "source": [
    "# exemplo com numeros\n",
    "dados_index2 = pd.DataFrame(dados, index = [10, 20, 30])\n",
    "print(dados_index2)"
   ]
  },
  {
   "cell_type": "code",
   "execution_count": null,
   "id": "e2cbbdba",
   "metadata": {},
   "outputs": [],
   "source": []
  }
 ],
 "metadata": {
  "kernelspec": {
   "display_name": "Python 3",
   "language": "python",
   "name": "python3"
  },
  "language_info": {
   "codemirror_mode": {
    "name": "ipython",
    "version": 3
   },
   "file_extension": ".py",
   "mimetype": "text/x-python",
   "name": "python",
   "nbconvert_exporter": "python",
   "pygments_lexer": "ipython3",
   "version": "3.13.2"
  }
 },
 "nbformat": 4,
 "nbformat_minor": 5
}
